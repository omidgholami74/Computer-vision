{
  "cells": [
    {
      "cell_type": "code",
      "execution_count": 3,
      "metadata": {
        "collapsed": false
      },
      "outputs": [],
      "source": [
        "%matplotlib inline"
      ]
    },
    {
      "cell_type": "markdown",
      "metadata": {},
      "source": [
        "\n",
        "# Normalized Cut\n",
        "\n",
        "\n",
        "This example constructs a Region Adjacency Graph (RAG) and recursively performs\n",
        "a Normalized Cut on it [1]_.\n",
        "\n",
        "References\n",
        "----------\n",
        ".. [1] Shi, J.; Malik, J., \"Normalized cuts and image segmentation\",\n",
        "       Pattern Analysis and Machine Intelligence,\n",
        "       IEEE Transactions on, vol. 22, no. 8, pp. 888-905, August 2000.\n"
      ]
    },
    {
      "cell_type": "code",
      "execution_count": 2,
      "metadata": {
        "collapsed": false
      },
      "outputs": [
        {
          "output_type": "stream",
          "name": "stderr",
          "text": [
            "Clipping input data to the valid range for imshow with RGB data ([0..1] for floats or [0..255] for integers).\n",
            "Clipping input data to the valid range for imshow with RGB data ([0..1] for floats or [0..255] for integers).\n"
          ]
        },
        {
          "output_type": "display_data",
          "data": {
            "text/plain": "<Figure size 432x576 with 2 Axes>",
            "image/svg+xml": "<?xml version=\"1.0\" encoding=\"utf-8\" standalone=\"no\"?>\r\n<!DOCTYPE svg PUBLIC \"-//W3C//DTD SVG 1.1//EN\"\r\n  \"http://www.w3.org/Graphics/SVG/1.1/DTD/svg11.dtd\">\r\n<!-- Created with matplotlib (https://matplotlib.org/) -->\r\n<svg height=\"568.8pt\" version=\"1.1\" viewBox=\"0 0 422.1 568.8\" width=\"422.1pt\" xmlns=\"http://www.w3.org/2000/svg\" xmlns:xlink=\"http://www.w3.org/1999/xlink\">\r\n <metadata>\r\n  <rdf:RDF xmlns:cc=\"http://creativecommons.org/ns#\" xmlns:dc=\"http://purl.org/dc/elements/1.1/\" xmlns:rdf=\"http://www.w3.org/1999/02/22-rdf-syntax-ns#\">\r\n   <cc:Work>\r\n    <dc:type rdf:resource=\"http://purl.org/dc/dcmitype/StillImage\"/>\r\n    <dc:date>2021-06-20T14:45:55.112284</dc:date>\r\n    <dc:format>image/svg+xml</dc:format>\r\n    <dc:creator>\r\n     <cc:Agent>\r\n      <dc:title>Matplotlib v3.3.4, https://matplotlib.org/</dc:title>\r\n     </cc:Agent>\r\n    </dc:creator>\r\n   </cc:Work>\r\n  </rdf:RDF>\r\n </metadata>\r\n <defs>\r\n  <style type=\"text/css\">*{stroke-linecap:butt;stroke-linejoin:round;}</style>\r\n </defs>\r\n <g id=\"figure_1\">\r\n  <g id=\"patch_1\">\r\n   <path d=\"M 0 568.8 \r\nL 422.1 568.8 \r\nL 422.1 0 \r\nL 0 0 \r\nz\r\n\" style=\"fill:none;\"/>\r\n  </g>\r\n  <g id=\"axes_1\">\r\n   <g clip-path=\"url(#p1d5d88200a)\">\r\n    <image height=\"272\" id=\"image90f1e1ff32\" transform=\"scale(1 -1)translate(0 -272)\" width=\"408\" x=\"7.2\" xlink:href=\"data:image/png;base64,\r\niVBORw0KGgoAAAANSUhEUgAAAZgAAAEQCAYAAACN2GLgAAAD+klEQVR4nO3VwQ3AIBDAsNL9dz6WIEJC9gT5Zc3MfABw2H87AIA3GQwACYMBIGEwACQMBoCEwQCQMBgAEgYDQMJgAEgYDAAJgwEgYTAAJAwGgITBAJAwGAASBgNAwmAASBgMAAmDASBhMAAkDAaAhMEAkDAYABIGA0DCYABIGAwACYMBIGEwACQMBoCEwQCQMBgAEgYDQMJgAEgYDAAJgwEgYTAAJAwGgITBAJAwGAASBgNAwmAASBgMAAmDASBhMAAkDAaAhMEAkDAYABIGA0DCYABIGAwACYMBIGEwACQMBoCEwQCQMBgAEgYDQMJgAEgYDAAJgwEgYTAAJAwGgITBAJAwGAASBgNAwmAASBgMAAmDASBhMAAkDAaAhMEAkDAYABIGA0DCYABIGAwACYMBIGEwACQMBoCEwQCQMBgAEgYDQMJgAEgYDAAJgwEgYTAAJAwGgITBAJAwGAASBgNAwmAASBgMAAmDASBhMAAkDAaAhMEAkDAYABIGA0DCYABIGAwACYMBIGEwACQMBoCEwQCQMBgAEgYDQMJgAEgYDAAJgwEgYTAAJAwGgITBAJAwGAASBgNAwmAASBgMAAmDASBhMAAkDAaAhMEAkDAYABIGA0DCYABIGAwACYMBIGEwACQMBoCEwQCQMBgAEgYDQMJgAEgYDAAJgwEgYTAAJAwGgITBAJAwGAASBgNAwmAASBgMAAmDASBhMAAkDAaAhMEAkDAYABIGA0DCYABIGAwACYMBIGEwACQMBoCEwQCQMBgAEgYDQMJgAEgYDAAJgwEgYTAAJAwGgITBAJAwGAASBgNAwmAASBgMAAmDASBhMAAkDAaAhMEAkDAYABIGA0DCYABIGAwACYMBIGEwACQMBoCEwQCQMBgAEgYDQMJgAEgYDAAJgwEgYTAAJAwGgITBAJAwGAASBgNAwmAASBgMAAmDASBhMAAkDAaAhMEAkDAYABIGA0DCYABIGAwACYMBIGEwACQMBoCEwQCQMBgAEgYDQMJgAEgYDAAJgwEgYTAAJAwGgITBAJAwGAASBgNAwmAASBgMAAmDASBhMAAkDAaAhMEAkDAYABIGA0DCYABIGAwACYMBIGEwACQMBoCEwQCQMBgAEgYDQMJgAEgYDAAJgwEgYTAAJAwGgITBAJAwGAASBgNAwmAASBgMAAmDASBhMAAkDAaAhMEAkDAYABIGA0DCYABIGAwACYMBIGEwACQMBoCEwQCQMBgAEgYDQMJgAEgYDAAJgwEgYTAAJAwGgITBAJAwGAASBgNAwmAASBgMAAmDASBhMAAkDAaAhMEAkDAYABIGA0DCYABIGAwACYMBIGEwACQMBoCEwQCQMBgAEhtjbQYcj8qCogAAAABJRU5ErkJggg==\" y=\"-7\"/>\r\n   </g>\r\n  </g>\r\n  <g id=\"axes_2\">\r\n   <g clip-path=\"url(#p8227328ba7)\">\r\n    <image height=\"272\" id=\"image5b84e6487e\" transform=\"scale(1 -1)translate(0 -272)\" width=\"408\" x=\"7.2\" xlink:href=\"data:image/png;base64,\r\niVBORw0KGgoAAAANSUhEUgAAAZgAAAEQCAYAAACN2GLgAAAD+klEQVR4nO3VwQ3AIBDAsNL9dz6WIEJC9gT5Zc3MfABw2H87AIA3GQwACYMBIGEwACQMBoCEwQCQMBgAEgYDQMJgAEgYDAAJgwEgYTAAJAwGgITBAJAwGAASBgNAwmAASBgMAAmDASBhMAAkDAaAhMEAkDAYABIGA0DCYABIGAwACYMBIGEwACQMBoCEwQCQMBgAEgYDQMJgAEgYDAAJgwEgYTAAJAwGgITBAJAwGAASBgNAwmAASBgMAAmDASBhMAAkDAaAhMEAkDAYABIGA0DCYABIGAwACYMBIGEwACQMBoCEwQCQMBgAEgYDQMJgAEgYDAAJgwEgYTAAJAwGgITBAJAwGAASBgNAwmAASBgMAAmDASBhMAAkDAaAhMEAkDAYABIGA0DCYABIGAwACYMBIGEwACQMBoCEwQCQMBgAEgYDQMJgAEgYDAAJgwEgYTAAJAwGgITBAJAwGAASBgNAwmAASBgMAAmDASBhMAAkDAaAhMEAkDAYABIGA0DCYABIGAwACYMBIGEwACQMBoCEwQCQMBgAEgYDQMJgAEgYDAAJgwEgYTAAJAwGgITBAJAwGAASBgNAwmAASBgMAAmDASBhMAAkDAaAhMEAkDAYABIGA0DCYABIGAwACYMBIGEwACQMBoCEwQCQMBgAEgYDQMJgAEgYDAAJgwEgYTAAJAwGgITBAJAwGAASBgNAwmAASBgMAAmDASBhMAAkDAaAhMEAkDAYABIGA0DCYABIGAwACYMBIGEwACQMBoCEwQCQMBgAEgYDQMJgAEgYDAAJgwEgYTAAJAwGgITBAJAwGAASBgNAwmAASBgMAAmDASBhMAAkDAaAhMEAkDAYABIGA0DCYABIGAwACYMBIGEwACQMBoCEwQCQMBgAEgYDQMJgAEgYDAAJgwEgYTAAJAwGgITBAJAwGAASBgNAwmAASBgMAAmDASBhMAAkDAaAhMEAkDAYABIGA0DCYABIGAwACYMBIGEwACQMBoCEwQCQMBgAEgYDQMJgAEgYDAAJgwEgYTAAJAwGgITBAJAwGAASBgNAwmAASBgMAAmDASBhMAAkDAaAhMEAkDAYABIGA0DCYABIGAwACYMBIGEwACQMBoCEwQCQMBgAEgYDQMJgAEgYDAAJgwEgYTAAJAwGgITBAJAwGAASBgNAwmAASBgMAAmDASBhMAAkDAaAhMEAkDAYABIGA0DCYABIGAwACYMBIGEwACQMBoCEwQCQMBgAEgYDQMJgAEgYDAAJgwEgYTAAJAwGgITBAJAwGAASBgNAwmAASBgMAAmDASBhMAAkDAaAhMEAkDAYABIGA0DCYABIGAwACYMBIGEwACQMBoCEwQCQMBgAEhtjbQYcj8qCogAAAABJRU5ErkJggg==\" y=\"-289.6\"/>\r\n   </g>\r\n  </g>\r\n </g>\r\n <defs>\r\n  <clipPath id=\"p1d5d88200a\">\r\n   <rect height=\"271.8\" width=\"407.7\" x=\"7.2\" y=\"7.2\"/>\r\n  </clipPath>\r\n  <clipPath id=\"p8227328ba7\">\r\n   <rect height=\"271.8\" width=\"407.7\" x=\"7.2\" y=\"289.8\"/>\r\n  </clipPath>\r\n </defs>\r\n</svg>\r\n",
            "image/png": "[encoded data removed]"
          },
          "metadata": {
            "needs_background": "light"
          }
        }
      ],
      "source": [
        "from skimage import data, segmentation, color\n",
        "from skimage.future import graph\n",
        "from matplotlib import pyplot as plt\n",
        "import cv2\n",
        "\n",
        "img = data.coffee()\n",
        "\n",
        "labels1 = segmentation.slic(img, compactness=30, n_segments=400,\n",
        "                            start_label=1)\n",
        "out1 = color.label2rgb(labels1, img, kind='avg', bg_label=0)\n",
        "\n",
        "g = graph.rag_mean_color(img, labels1, mode='similarity')\n",
        "labels2 = graph.cut_normalized(labels1, g)\n",
        "out2 = color.label2rgb(labels2, img, kind='avg', bg_label=0)\n",
        "\n",
        "fig, ax = plt.subplots(nrows=2, sharex=True, sharey=True, figsize=(6, 8))\n",
        " \n",
        "ax[0].imshow(out1)\n",
        "ax[1].imshow(out2)\n",
        "\n",
        "for a in ax:\n",
        "    a.axis('off')\n",
        "\n",
        "plt.tight_layout()"
      ]
    },
    {
      "cell_type": "code",
      "execution_count": null,
      "metadata": {},
      "outputs": [],
      "source": []
    }
  ],
  "metadata": {
    "kernelspec": {
      "name": "python3",
      "display_name": "Python 3.8.8 64-bit ('myenv': conda)"
    },
    "language_info": {
      "codemirror_mode": {
        "name": "ipython",
        "version": 3
      },
      "file_extension": ".py",
      "mimetype": "text/x-python",
      "name": "python",
      "nbconvert_exporter": "python",
      "pygments_lexer": "ipython3",
      "version": "3.8.8"
    },
    "interpreter": {
      "hash": "e3c4401f2b74d1aa36ec95569aecf3104033bed1ba61435386eb4d600bcf38e3"
    }
  },
  "nbformat": 4,
  "nbformat_minor": 0
}